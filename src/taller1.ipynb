{
 "cells": [
  {
   "cell_type": "markdown",
   "id": "5d1f3437",
   "metadata": {},
   "source": [
    "# Introducción a High-Performance Computing\n",
    "---\n",
    "\n",
    "- **Taller 1**: numpy.\n",
    "- **Fecha de entrega**: 5 de septiembre de 2023.\n",
    "- **Enlace de entrega**: https://forms.gle/4jft6rSfKcbvh81QA\n",
    "\n",
    "Importamos librerías:"
   ]
  },
  {
   "cell_type": "code",
   "execution_count": null,
   "id": "a1d680b3",
   "metadata": {
    "lines_to_next_cell": 1,
    "title": "[code]"
   },
   "outputs": [],
   "source": [
    "import random\n",
    "import numpy as np\n",
    "import matplotlib.pyplot as plt\n",
    "from numpy.typing import ArrayLike\n",
    "from collections import Counter\n",
    "from typing import Dict, List, Tuple\n",
    "from IPython.display import display"
   ]
  },
  {
   "cell_type": "markdown",
   "id": "38a02593",
   "metadata": {},
   "source": [
    "## Punto 1\n",
    "---\n",
    "\n",
    "En este punto deberá implementar una función que con operaciones de `numpy` permita calcular las proporciones de letras en una secuencia de texto dada. Debe replicar el comportamiento de la función `letter_count_python`:"
   ]
  },
  {
   "cell_type": "code",
   "execution_count": null,
   "id": "34de901a",
   "metadata": {
    "lines_to_next_cell": 1,
    "title": "[code]"
   },
   "outputs": [],
   "source": [
    "def letter_count_python(seq: str) -> Dict:\n",
    "    counts = Counter(seq)\n",
    "    acum = sum(counts.values())\n",
    "    probs = {key: val / acum for key, val in counts.items()}\n",
    "    return probs"
   ]
  },
  {
   "cell_type": "markdown",
   "id": "a0a3e4f9",
   "metadata": {},
   "source": [
    "Implemente la función `letter_count_numpy`. Está prohibido utilizar ciclos `for` o `while`."
   ]
  },
  {
   "cell_type": "code",
   "execution_count": null,
   "id": "5b2612cb",
   "metadata": {
    "lines_to_next_cell": 1,
    "title": "[code]"
   },
   "outputs": [],
   "source": [
    "def letter_count_numpy(seq: str) -> Dict:\n",
    "    ..."
   ]
  },
  {
   "cell_type": "markdown",
   "id": "0e1e0701",
   "metadata": {},
   "source": [
    "Las salidas deben ser iguales:"
   ]
  },
  {
   "cell_type": "code",
   "execution_count": null,
   "id": "6a0301c7",
   "metadata": {
    "title": "[code]"
   },
   "outputs": [],
   "source": [
    "seq = \"thank you, this solved my problem. I think it's a matter of kernel changes.\""
   ]
  },
  {
   "cell_type": "code",
   "execution_count": null,
   "id": "a798a90a",
   "metadata": {
    "title": "[code]"
   },
   "outputs": [],
   "source": [
    "display(letter_count_python(seq))"
   ]
  },
  {
   "cell_type": "code",
   "execution_count": null,
   "id": "2e80a9e5",
   "metadata": {
    "lines_to_next_cell": 1,
    "title": "[code]"
   },
   "outputs": [],
   "source": [
    "display(letter_count_numpy(seq))"
   ]
  },
  {
   "cell_type": "markdown",
   "id": "6a54dde7",
   "metadata": {},
   "source": [
    "## Punto 2\n",
    "---\n",
    "\n",
    "En este punto deberá implementar una función que con operaciones de `numpy` permita calcular el valor esperado a partir de un arreglo de valores y sus respectivas probabilidades.\n",
    "\n",
    "Recuerde que el valor esperado está dado por la siguiente ecuación:\n",
    "\n",
    "$$\n",
    "\\mathbb{E}[x] = \\sum_i P(x_i) x_i\n",
    "$$\n",
    "\n",
    "Debe replicar el comportamiento de la función `expected_value_python`:"
   ]
  },
  {
   "cell_type": "code",
   "execution_count": null,
   "id": "bd82a88f",
   "metadata": {
    "lines_to_next_cell": 1,
    "title": "[code]"
   },
   "outputs": [],
   "source": [
    "def expected_value_python(vals: List[float], probs: List[float]) -> float:\n",
    "    return sum(\n",
    "            a * b\n",
    "            for a, b in zip(vals, probs)\n",
    "            )"
   ]
  },
  {
   "cell_type": "markdown",
   "id": "31734b69",
   "metadata": {},
   "source": [
    "Implemente la función `expected_value_numpy`. Está prohibido utilizar ciclos `for` o `while`."
   ]
  },
  {
   "cell_type": "code",
   "execution_count": null,
   "id": "cf244557",
   "metadata": {
    "lines_to_next_cell": 1,
    "title": "[code]"
   },
   "outputs": [],
   "source": [
    "def expected_value_numpy(vals: ArrayLike, probs: ArrayLike) -> float:\n",
    "    ..."
   ]
  },
  {
   "cell_type": "markdown",
   "id": "f3d38de0",
   "metadata": {},
   "source": [
    "Las salidas deben ser iguales:"
   ]
  },
  {
   "cell_type": "code",
   "execution_count": null,
   "id": "77c42747",
   "metadata": {
    "title": "[code]"
   },
   "outputs": [],
   "source": [
    "vals = [1., 2., 3., 4.]\n",
    "probs = [0.3, 0.2, 0.3, 0.2]\n",
    "display(expected_value_python(vals, probs))"
   ]
  },
  {
   "cell_type": "code",
   "execution_count": null,
   "id": "1e8bd158",
   "metadata": {
    "lines_to_next_cell": 1,
    "title": "[code]"
   },
   "outputs": [],
   "source": [
    "vals = np.array([1., 2., 3., 4.])\n",
    "probs = np.array([0.3, 0.2, 0.3, 0.2])\n",
    "display(expected_value_numpy(vals, probs))"
   ]
  },
  {
   "cell_type": "markdown",
   "id": "cd96e7c9",
   "metadata": {},
   "source": [
    "## Punto 3\n",
    "---\n",
    "\n",
    "En este punto deberá implementar el [juego del caos](https://en.wikipedia.org/wiki/Chaos_game) con `numpy`.\n",
    "\n",
    "La idea es poder replicar el triangulo de Sierpinski implementado en la función `chaos_game_python`:"
   ]
  },
  {
   "cell_type": "code",
   "execution_count": null,
   "id": "8ee83fd3",
   "metadata": {
    "lines_to_next_cell": 1,
    "title": "[code]"
   },
   "outputs": [],
   "source": [
    "def chaos_game_python(n_samples: int) -> List[Tuple[float, float]]:\n",
    "    points = []\n",
    "    vertex = [\n",
    "            (0, 0),\n",
    "            (0.5, 1),\n",
    "            (1, 0)\n",
    "            ]\n",
    "    p0 = (random.random(), random.random())\n",
    "    for _ in range(n_samples):\n",
    "        p1 = random.choice(vertex)\n",
    "        p0 = (\n",
    "                (p1[0] + p0[0]) / 2,\n",
    "                (p1[1] + p0[1]) / 2\n",
    "                )\n",
    "        points.append(p0)\n",
    "    return points"
   ]
  },
  {
   "cell_type": "markdown",
   "id": "a6e6fce9",
   "metadata": {},
   "source": [
    "Debe implementar la función `chaos_game_numpy`. Puede utilizar únicamente un ciclo `for` o `while`:"
   ]
  },
  {
   "cell_type": "code",
   "execution_count": null,
   "id": "fcba744b",
   "metadata": {
    "lines_to_next_cell": 1,
    "title": "[code]"
   },
   "outputs": [],
   "source": [
    "def chaos_game_numpy(n_samples: int) -> ArrayLike:\n",
    "    ..."
   ]
  },
  {
   "cell_type": "markdown",
   "id": "e2dad800",
   "metadata": {},
   "source": [
    "Las imagenes deben mostrar una figura similar:"
   ]
  },
  {
   "cell_type": "code",
   "execution_count": null,
   "id": "b14ad4b3",
   "metadata": {
    "title": "[code]"
   },
   "outputs": [],
   "source": [
    "vals = chaos_game_python(n_samples=10_000)\n",
    "vals = np.array(vals)\n",
    "fig, ax = plt.subplots()\n",
    "ax.scatter(vals[:, 0], vals[:, 1], alpha=0.3, s=2)\n",
    "fig.show()"
   ]
  },
  {
   "cell_type": "code",
   "execution_count": null,
   "id": "f508d97f",
   "metadata": {
    "lines_to_next_cell": 1,
    "title": "[code]"
   },
   "outputs": [],
   "source": [
    "vals = chaos_game_numpy(n_samples=10_000)\n",
    "fig, ax = plt.subplots()\n",
    "ax.scatter(vals[:, 0], vals[:, 1], alpha=0.3, s=2)\n",
    "fig.show()"
   ]
  },
  {
   "cell_type": "markdown",
   "id": "3901a643",
   "metadata": {},
   "source": [
    "## Punto 4\n",
    "---\n",
    "\n",
    "Un prestigioso restaurante conocido como _Grandes Comelones_ realizó un evento que consistía en comer muchas hamburguesas en menos de 10 minutos. Las reglas eran las siguientes:\n",
    "\n",
    "- Si la persona se come más de 10 hamburguesas en el tiempo dado, la comida es gratis.\n",
    "- Si la persona no come más de 10 hamburguesas, deberá pagar cada una de las hamburguesas que comió (con sus respectivos precios).\n",
    "- El restaurante ofrece tres tipos de hamburguesas: \"pollo\" (15.000$), \"carne\" (17.000$) y \"pescado\" (20.000$).\n",
    "\n",
    "La idea de este punto es calcular las ganancias obtenidas durante el evento a partir de una matriz de recuentos de unidades vendidas. En esta matriz, cada fila representa un cliente y cada columna un tipo de hamburguesa (el orden de las columnas es pollo:0, carne:1 y pescado:2)\n",
    "\n",
    "Por ejemplo, en la siguiente matriz:\n",
    "\n",
    "```\n",
    "[\n",
    " [1, 2, 3],\n",
    " [3, 2, 3]\n",
    "]\n",
    "```\n",
    "\n",
    "El segundo cliente consumió 3 hamburguesas de pollo, 2 de carne y 3 de pescado.\n",
    "\n",
    "La idea es replicar la función `burguer_sales_python`:"
   ]
  },
  {
   "cell_type": "code",
   "execution_count": null,
   "id": "cc8c339a",
   "metadata": {
    "lines_to_next_cell": 1,
    "title": "[code]"
   },
   "outputs": [],
   "source": [
    "def burguer_sales_python(counts:ArrayLike) -> float:\n",
    "    prices = [15_000, 17_000, 20_000]\n",
    "    acum = 0\n",
    "    for customer in range(counts.shape[0]):\n",
    "        customer_units = 0\n",
    "        for burger in range(counts.shape[1]):\n",
    "            customer_units += counts[customer, burger]\n",
    "        if customer_units > 10:\n",
    "            continue\n",
    "        else:\n",
    "            total_sale = sum(\n",
    "                    a * b\n",
    "                    for a, b in zip(prices, counts[customer])\n",
    "                    )\n",
    "            acum += total_sale\n",
    "    return acum"
   ]
  },
  {
   "cell_type": "markdown",
   "id": "c899c27d",
   "metadata": {},
   "source": [
    "Debe implementar la función `burguer_sales_numpy`. No puede utilizar ciclos `for` o `while`."
   ]
  },
  {
   "cell_type": "code",
   "execution_count": null,
   "id": "6140289c",
   "metadata": {
    "lines_to_next_cell": 1,
    "title": "[code]"
   },
   "outputs": [],
   "source": [
    "def burguer_sales_numpy(counts: ArrayLike) -> float:\n",
    "    ..."
   ]
  },
  {
   "cell_type": "markdown",
   "id": "575aadf9",
   "metadata": {},
   "source": [
    "Las salidas deben ser iguales:"
   ]
  },
  {
   "cell_type": "code",
   "execution_count": null,
   "id": "30236d1e",
   "metadata": {
    "title": "[code]"
   },
   "outputs": [],
   "source": [
    "counts = np.array([\n",
    "    [3, 2, 3],\n",
    "    [5, 5, 1],\n",
    "    [10, 0, 0],\n",
    "    [1, 1, 1],\n",
    "    [0, 11, 0],\n",
    "    [0, 0, 15],\n",
    "    ])\n",
    "display(burguer_sales_python(counts))"
   ]
  },
  {
   "cell_type": "code",
   "execution_count": null,
   "id": "641835af",
   "metadata": {
    "title": "[code]"
   },
   "outputs": [],
   "source": [
    "counts = np.array([\n",
    "    [3, 2, 3],\n",
    "    [5, 5, 1],\n",
    "    [10, 0, 0],\n",
    "    [1, 1, 1],\n",
    "    [0, 11, 0],\n",
    "    [0, 0, 15],\n",
    "    ])\n",
    "display(burguer_sales_numpy(counts))"
   ]
  }
 ],
 "metadata": {
  "jupytext": {
   "cell_metadata_filter": "title,-all",
   "formats": "py:percent,ipynb",
   "main_language": "python"
  }
 },
 "nbformat": 4,
 "nbformat_minor": 5
}
