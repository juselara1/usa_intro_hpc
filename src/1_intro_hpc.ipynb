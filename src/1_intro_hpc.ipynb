{
  "nbformat": 4,
  "nbformat_minor": 0,
  "metadata": {
    "colab": {
      "provenance": []
    },
    "kernelspec": {
      "name": "python3",
      "display_name": "Python 3"
    },
    "language_info": {
      "name": "python"
    }
  },
  "cells": [
    {
      "cell_type": "markdown",
      "source": [
        "$$\n",
        "\\sum_{i=1} ^ {1000} i ^ 2\n",
        "$$"
      ],
      "metadata": {
        "id": "Swk-w21fxLbk"
      }
    },
    {
      "cell_type": "markdown",
      "source": [
        "# Implementacion en Python"
      ],
      "metadata": {
        "id": "56LBXYKpyTCq"
      }
    },
    {
      "cell_type": "code",
      "source": [
        "%%writefile main.py\n",
        "import time\n",
        "\n",
        "def squared_sum(n: int) -> int:\n",
        "    acum = 0\n",
        "    for i in range(n):\n",
        "        acum += i ** 2\n",
        "    return acum\n",
        "\n",
        "if __name__ == \"__main__\":\n",
        "    t0 = time.time()\n",
        "    result = squared_sum(1000)\n",
        "    delta_t = (time.time() - t0) * 1e6\n",
        "    print(f\"Resultado: {result}\")\n",
        "    print(f\"Tiempo: {delta_t} microsegundos\")"
      ],
      "metadata": {
        "colab": {
          "base_uri": "https://localhost:8080/"
        },
        "id": "_F7vx99FwuUO",
        "outputId": "2e670b76-84be-4f8f-dcf6-6e463f0292b6"
      },
      "execution_count": 40,
      "outputs": [
        {
          "output_type": "stream",
          "name": "stdout",
          "text": [
            "Overwriting main.py\n"
          ]
        }
      ]
    },
    {
      "cell_type": "code",
      "execution_count": 41,
      "metadata": {
        "id": "0mD6uR_edViq",
        "colab": {
          "base_uri": "https://localhost:8080/"
        },
        "outputId": "aa648735-3051-4011-f409-47fb7d0e6859"
      },
      "outputs": [
        {
          "output_type": "stream",
          "name": "stdout",
          "text": [
            "Resultado: 332833500\n",
            "Tiempo: 331.1634063720703 microsegundos\n"
          ]
        }
      ],
      "source": [
        "!python main.py"
      ]
    },
    {
      "cell_type": "markdown",
      "source": [
        "# Implementacion en C"
      ],
      "metadata": {
        "id": "oDNfIoWKyXIw"
      }
    },
    {
      "cell_type": "code",
      "source": [
        "%%writefile main.c\n",
        "#include <stdio.h>\n",
        "#include <time.h>\n",
        "\n",
        "int squared_sum(int n) {\n",
        "    int acum = 0;\n",
        "    for (int i = 1; i < n; i++) {\n",
        "        acum += i * i;\n",
        "    }\n",
        "    return acum;\n",
        "}\n",
        "\n",
        "int main(void){\n",
        "    int t0 = clock();\n",
        "    int result = squared_sum(1000);\n",
        "    double delta_t = (double)(clock() - t0) * 1e6 / CLOCKS_PER_SEC;\n",
        "    printf(\"Resultado: %d\\n\", result);\n",
        "    printf(\"Tiempo: %f microsegundos\\n\", delta_t);\n",
        "    return 0;\n",
        "}"
      ],
      "metadata": {
        "colab": {
          "base_uri": "https://localhost:8080/"
        },
        "id": "Tj8wkiIsddrG",
        "outputId": "bb284838-cba6-46f4-f846-4da36c2c72ec"
      },
      "execution_count": 46,
      "outputs": [
        {
          "output_type": "stream",
          "name": "stdout",
          "text": [
            "Overwriting main.c\n"
          ]
        }
      ]
    },
    {
      "cell_type": "markdown",
      "source": [
        "Compilacion:"
      ],
      "metadata": {
        "id": "ZSWH6HLYyZzH"
      }
    },
    {
      "cell_type": "code",
      "source": [
        "!gcc main.c -o main"
      ],
      "metadata": {
        "id": "hB8NDKHfdmW-"
      },
      "execution_count": 47,
      "outputs": []
    },
    {
      "cell_type": "code",
      "source": [
        "!./main"
      ],
      "metadata": {
        "colab": {
          "base_uri": "https://localhost:8080/"
        },
        "id": "jePzvdaidnhX",
        "outputId": "4629071d-360c-4223-e6ea-fcd02f4af622"
      },
      "execution_count": 48,
      "outputs": [
        {
          "output_type": "stream",
          "name": "stdout",
          "text": [
            "Resultado: 332833500\n",
            "Tiempo: 2.000000 microsegundos\n"
          ]
        }
      ]
    }
  ]
}